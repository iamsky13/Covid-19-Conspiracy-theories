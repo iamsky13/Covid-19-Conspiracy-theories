{
 "cells": [
  {
   "cell_type": "markdown",
   "metadata": {},
   "source": [
    "While scientists in Wuhan were researching the SARS-like bat Coronavirus, they were unhappy with the low rate at which it infected human cells. So they genetically altered it to make it infect human cells more effectively -- by giving it an HIV (human immunodeficiency virus) outer shell, which enabled the SARS-like coronavirus to attack human cells via ACE2 receptors."
   ]
  },
  {
   "cell_type": "markdown",
   "metadata": {},
   "source": [
    "They tried combining a SARS-like bat coronavirus with HIV pseudovirus that was not previously infectious to humans.\n",
    "\n",
    "Year 2007 [Link](https://jvi.asm.org/content/82/4/1899)\n",
    "\n",
    "In 2010 scientists in Wuhan published [a study stating they combined HIV parts with SARS](https://link.springer.com/article/10.1007%2Fs00705-010-0729-6)\n",
    "\n"
   ]
  },
  {
   "cell_type": "markdown",
   "metadata": {},
   "source": [
    "In 2016 Nature Magazine published [an article about China engineering a bat coronavirus and scientists worried it would leak.](https://www.nature.com/news/engineered-bat-virus-stirs-debate-over-risky-research-1.18787)\n",
    "\n",
    "Note : article was edited saying\n"
   ]
  },
  {
   "cell_type": "markdown",
   "metadata": {},
   "source": [
    "We are aware that this story is being used as the basis for unverified theories that the novel coronavirus causing COVID-19 was engineered. There is no evidence that this is true; scientists believe that an animal is the most likely source of the coronavirus."
   ]
  },
  {
   "cell_type": "markdown",
   "metadata": {},
   "source": [
    "## But the previous studies suggests SARS-like bat Coronavirus has low infection rate to human cells and scientists genetically altered them by giving it an HIV (human immunodeficiency virus) outer shell"
   ]
  },
  {
   "cell_type": "markdown",
   "metadata": {},
   "source": [
    "2015 study, scientists in Wuhan: They took a bat coronavirus and made a chimera virus that specifically attaches to the ACE2 protein to \"to maximize the opportunity for pathogenesis and vaccine studies in mice\". [A SARS-like cluster of circulating bat coronaviruses shows potential for human emergence](https://www.nature.com/articles/nm.3985)"
   ]
  },
  {
   "cell_type": "markdown",
   "metadata": {},
   "source": [
    "2020's corona : [first study published about COVID-19, ACE2 receptors, same scientists as the study from a decade ago, Peng Zhou](https://www.nature.com/articles/s41586-020-2012-7)"
   ]
  },
  {
   "cell_type": "markdown",
   "metadata": {},
   "source": [
    "[more link](https://www.news.com.au/lifestyle/health/health-problems/chinese-doctors-say-coronavirus-like-a-combination-of-sars-and-aids-can-cause-irreversible-lung-damage/news-story/f58f19c5eeae99b845c54e2d2b9305ca)\n",
    "\n",
    "[For the third time in less than a year SARS outbreak](https://science.sciencemag.org/content/304/5671/659)"
   ]
  },
  {
   "cell_type": "code",
   "execution_count": 5,
   "metadata": {},
   "outputs": [],
   "source": [
    "#I don't know if this is related with corona or not but just in case "
   ]
  },
  {
   "cell_type": "markdown",
   "metadata": {},
   "source": [
    "[Harvard University Professor and Two Chinese Nationals Charged](https://www.justice.gov/opa/pr/harvard-university-professor-and-two-chinese-nationals-charged-three-separate-china-related)"
   ]
  },
  {
   "cell_type": "markdown",
   "metadata": {},
   "source": [
    "## Date:2020-2-16 [Biosafety guideline issued to fix chronic management loopholes at chinese virus labs](https://www.globaltimes.cn/content/1179747.shtml)"
   ]
  },
  {
   "cell_type": "code",
   "execution_count": null,
   "metadata": {},
   "outputs": [],
   "source": []
  }
 ],
 "metadata": {
  "kernelspec": {
   "display_name": "Python 3",
   "language": "python",
   "name": "python3"
  },
  "language_info": {
   "codemirror_mode": {
    "name": "ipython",
    "version": 3
   },
   "file_extension": ".py",
   "mimetype": "text/x-python",
   "name": "python",
   "nbconvert_exporter": "python",
   "pygments_lexer": "ipython3",
   "version": "3.8.2"
  }
 },
 "nbformat": 4,
 "nbformat_minor": 4
}
